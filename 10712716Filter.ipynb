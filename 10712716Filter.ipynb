{
 "cells": [
  {
   "cell_type": "code",
   "execution_count": 1,
   "metadata": {},
   "outputs": [],
   "source": [
    "import numpy as np\n",
    "import math\n",
    "#Generating kernel, σ has been set default to 1 so we specify the kernelsize\n",
    "def generate_kernel(size):\n",
    "    kernel =  np.fromfunction(lambda x, y: (1/(2*math.pi*1**2)) * math.e ** ((-1*((x-(size-1)/2)**2+(y-(size-1)/2)**2))/(2*1**2)), (size, size))\n",
    "    return kernel / np.sum(kernel)"
   ]
  },
  {
   "cell_type": "code",
   "execution_count": 2,
   "metadata": {},
   "outputs": [],
   "source": [
    "#Defining function for gaussian filter using a nested for loop\n",
    "def gaussianFilter(img,kernel_size):\n",
    "    kernel = generate_kernel(kernel_size)\n",
    "    d = int((kernel_size-1)/2)\n",
    "    gaussian = np.zeros((img.shape[0]-2*d, img.shape[1]-2*d))\n",
    "    for y in range(d, img.shape[0]-d):\n",
    "        for x in range(d, img.shape[1]-d):\n",
    "            gaussian[y-d][x-d] = np.sum(np.multiply(img[y-d:y+d+1, x-d:x+d+1], kernel))\n",
    "    return gaussian"
   ]
  },
  {
   "cell_type": "code",
   "execution_count": 3,
   "metadata": {},
   "outputs": [],
   "source": [
    "#Getting an image matrix using random values\n",
    "img= np.random.rand(7, 7)"
   ]
  },
  {
   "cell_type": "code",
   "execution_count": 4,
   "metadata": {},
   "outputs": [
    {
     "data": {
      "text/plain": [
       "array([[3.17962898e-01, 4.00053094e-01, 8.34855275e-01, 6.58539029e-01,\n",
       "        5.77109196e-01, 2.75354971e-01, 3.14410945e-01],\n",
       "       [9.94016098e-01, 1.75783791e-01, 3.10364428e-01, 3.99245872e-01,\n",
       "        4.10177101e-01, 1.47482914e-02, 6.61208198e-01],\n",
       "       [9.19485561e-01, 9.22141209e-01, 6.84915807e-01, 4.36534344e-01,\n",
       "        2.64085074e-01, 7.87201616e-02, 4.84779810e-02],\n",
       "       [8.68704573e-01, 4.36201662e-01, 2.32112359e-01, 4.95414621e-01,\n",
       "        6.32999858e-01, 1.56820274e-01, 1.27868730e-01],\n",
       "       [9.40802676e-01, 9.39790990e-01, 6.56972961e-01, 2.48832000e-01,\n",
       "        9.75142286e-01, 5.54068863e-01, 8.98730955e-02],\n",
       "       [2.71677313e-01, 8.90410282e-04, 6.08213565e-01, 2.76539007e-01,\n",
       "        4.44307446e-01, 1.58272149e-01, 5.30904344e-01],\n",
       "       [8.35866168e-01, 6.88709197e-02, 7.62265326e-01, 8.91336358e-01,\n",
       "        8.51528674e-01, 3.04958007e-01, 7.87717189e-01]])"
      ]
     },
     "execution_count": 4,
     "metadata": {},
     "output_type": "execute_result"
    }
   ],
   "source": [
    "#Applying the gaussian filter to the image with kernel size of 2\n",
    "gaussianFilter(img,2)"
   ]
  },
  {
   "cell_type": "code",
   "execution_count": null,
   "metadata": {},
   "outputs": [],
   "source": []
  }
 ],
 "metadata": {
  "kernelspec": {
   "display_name": "Python 3",
   "language": "python",
   "name": "python3"
  },
  "language_info": {
   "codemirror_mode": {
    "name": "ipython",
    "version": 3
   },
   "file_extension": ".py",
   "mimetype": "text/x-python",
   "name": "python",
   "nbconvert_exporter": "python",
   "pygments_lexer": "ipython3",
   "version": "3.8.5"
  }
 },
 "nbformat": 4,
 "nbformat_minor": 4
}
