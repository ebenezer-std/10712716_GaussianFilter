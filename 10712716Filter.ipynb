{
 "cells": [
  {
   "cell_type": "code",
   "execution_count": 2,
   "metadata": {},
   "outputs": [],
   "source": [
    "import numpy as np\n",
    "import math\n",
    "#Generating kernel, σ has been set default to 1 so we specify the kernelsize\n",
    "def generate_kernel(size):\n",
    "    kernel =  np.fromfunction(lambda x, y: (1/(2*math.pi*1**2)) * math.e ** ((-1*((x-(size-1)/2)**2+(y-(size-1)/2)**2))/(2*1**2)), (size, size))\n",
    "    return kernel / np.sum(kernel)"
   ]
  },
  {
   "cell_type": "code",
   "execution_count": null,
   "metadata": {},
   "outputs": [],
   "source": [
    "#Defining function for gaussian filter usin\n",
    "def gaussianFilter(img,kernel_size):\n",
    "    kernel = generate_kernel(kernel_size)\n",
    "    d = int((kernel_size-1)/2)\n",
    "    gaussian = np.zeros((img.shape[0]-2*d, img.shape[1]-2*d))\n",
    "    for y in range(d, img.shape[0]-d):\n",
    "        for x in range(d, img.shape[1]-d):\n",
    "            gaussian[y-d][x-d] = np.sum(np.multiply(img[y-d:y+d+1, x-d:x+d+1], kernel))\n",
    "    return gaussian"
   ]
  }
 ],
 "metadata": {
  "kernelspec": {
   "display_name": "Python 3",
   "language": "python",
   "name": "python3"
  },
  "language_info": {
   "codemirror_mode": {
    "name": "ipython",
    "version": 3
   },
   "file_extension": ".py",
   "mimetype": "text/x-python",
   "name": "python",
   "nbconvert_exporter": "python",
   "pygments_lexer": "ipython3",
   "version": "3.8.5"
  }
 },
 "nbformat": 4,
 "nbformat_minor": 4
}
