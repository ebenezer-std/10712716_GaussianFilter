{
 "cells": [
  {
   "cell_type": "code",
   "execution_count": 1,
   "metadata": {},
   "outputs": [],
   "source": [
    "import numpy as np\n",
    "import math\n"
   ]
  },
  {
   "cell_type": "code",
   "execution_count": 2,
   "metadata": {},
   "outputs": [],
   "source": [
    "#Generating kernel, σ has been set default to 1 so we specify the kernelsize\n",
    "\n",
    "def gen_kernel(size):\n",
    "    kernel =  np.fromfunction(lambda x, y: (1/(2*math.pi*1**2)) * math.e ** ((-1*((x-(size-1)/2)**2+(y-(size-1)/2)**2))/(2*1**2)), (size, size))\n",
    "    return kernel / np.sum(kernel)"
   ]
  },
  {
   "cell_type": "code",
   "execution_count": 7,
   "metadata": {},
   "outputs": [],
   "source": [
    "#Defining function for gaussian filter using a nested for loop(main task)\n",
    "def gaussianFilter(img,kernel_size):\n",
    "    kernel = gen_kernel(kernel_size)\n",
    "    dim = int((kernel_size-1)/2)\n",
    "    gaussian = np.zeros((img.shape[0]-2*dim, img.shape[1]-2*dim))\n",
    "    for y in range(dim, img.shape[0]-d):\n",
    "        for x in range(dim, img.shape[1]-dim):\n",
    "            gaussian[y-dim][x-dim] = np.sum(np.multiply(img[y-dim:y+dim+1, x-dim:x+dim+1], kernel))\n",
    "    return gaussian"
   ]
  },
  {
   "cell_type": "code",
   "execution_count": 8,
   "metadata": {},
   "outputs": [
    {
     "name": "stdout",
     "output_type": "stream",
     "text": [
      "[[0.26433523 0.79495138 0.17432216 0.93997074 0.07320266 0.73681871\n",
      "  0.9570068 ]\n",
      " [0.44359015 0.20392825 0.62139288 0.43885863 0.08069874 0.23066674\n",
      "  0.35809819]\n",
      " [0.45758897 0.99746427 0.9473754  0.72258235 0.50461323 0.67412366\n",
      "  0.41603288]\n",
      " [0.92113754 0.58193652 0.7756704  0.79489312 0.07218295 0.70518559\n",
      "  0.41199565]\n",
      " [0.06002525 0.35720677 0.7889167  0.9413338  0.84750829 0.18126115\n",
      "  0.61730712]\n",
      " [0.19106515 0.06399663 0.27892653 0.66633369 0.60069977 0.4775762\n",
      "  0.61172031]\n",
      " [0.15207629 0.44289742 0.36626821 0.31697008 0.9818882  0.74552516\n",
      "  0.60218995]]\n"
     ]
    }
   ],
   "source": [
    "#Getting an image matrix using random values to test the filter\n",
    "trial_img= np.random.rand(7, 7)\n",
    "print(trial_img)"
   ]
  },
  {
   "cell_type": "code",
   "execution_count": 12,
   "metadata": {},
   "outputs": [
    {
     "data": {
      "text/plain": [
       "array([[0.26433523, 0.79495138, 0.17432216, 0.93997074, 0.07320266,\n",
       "        0.73681871, 0.9570068 ],\n",
       "       [0.44359015, 0.20392825, 0.62139288, 0.43885863, 0.08069874,\n",
       "        0.23066674, 0.35809819],\n",
       "       [0.45758897, 0.99746427, 0.9473754 , 0.72258235, 0.50461323,\n",
       "        0.67412366, 0.41603288],\n",
       "       [0.92113754, 0.58193652, 0.7756704 , 0.79489312, 0.07218295,\n",
       "        0.70518559, 0.41199565],\n",
       "       [0.06002525, 0.35720677, 0.7889167 , 0.9413338 , 0.84750829,\n",
       "        0.18126115, 0.61730712],\n",
       "       [0.19106515, 0.06399663, 0.27892653, 0.66633369, 0.60069977,\n",
       "        0.4775762 , 0.61172031],\n",
       "       [0.15207629, 0.44289742, 0.36626821, 0.31697008, 0.9818882 ,\n",
       "        0.74552516, 0.60218995]])"
      ]
     },
     "execution_count": 12,
     "metadata": {},
     "output_type": "execute_result"
    }
   ],
   "source": [
    "#Applying the gaussian filter to the image with kernel size of 2\n",
    "gaussianFilter(trial_img,2)"
   ]
  },
  {
   "cell_type": "code",
   "execution_count": null,
   "metadata": {},
   "outputs": [],
   "source": []
  },
  {
   "cell_type": "code",
   "execution_count": null,
   "metadata": {},
   "outputs": [],
   "source": []
  }
 ],
 "metadata": {
  "kernelspec": {
   "display_name": "Python 3",
   "language": "python",
   "name": "python3"
  },
  "language_info": {
   "codemirror_mode": {
    "name": "ipython",
    "version": 3
   },
   "file_extension": ".py",
   "mimetype": "text/x-python",
   "name": "python",
   "nbconvert_exporter": "python",
   "pygments_lexer": "ipython3",
   "version": "3.8.5"
  }
 },
 "nbformat": 4,
 "nbformat_minor": 4
}
